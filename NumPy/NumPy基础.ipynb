{
 "cells": [
  {
   "cell_type": "markdown",
   "metadata": {},
   "source": [
    "### 测试numpy安装成功"
   ]
  },
  {
   "cell_type": "code",
   "execution_count": 35,
   "metadata": {
    "collapsed": true
   },
   "outputs": [],
   "source": [
    "from numpy import *"
   ]
  },
  {
   "cell_type": "code",
   "execution_count": 36,
   "metadata": {
    "collapsed": true
   },
   "outputs": [],
   "source": [
    "a = random.rand(4,4)"
   ]
  },
  {
   "cell_type": "code",
   "execution_count": 37,
   "metadata": {},
   "outputs": [
    {
     "name": "stdout",
     "output_type": "stream",
     "text": [
      "[[ 0.11540114  0.57388744  0.64615162  0.04558949]\n",
      " [ 0.25413864  0.51970238  0.62965259  0.99353374]\n",
      " [ 0.40252924  0.33923054  0.94808533  0.38230899]\n",
      " [ 0.97683401  0.28889942  0.30229978  0.39109444]]\n"
     ]
    }
   ],
   "source": [
    "print(a)"
   ]
  },
  {
   "cell_type": "markdown",
   "metadata": {},
   "source": [
    "### Numpy函数库中存在2种数据类型，矩阵matrix 和 数组array"
   ]
  },
  {
   "cell_type": "markdown",
   "metadata": {},
   "source": [
    "### mat（）函数可将数组转为矩阵"
   ]
  },
  {
   "cell_type": "code",
   "execution_count": 38,
   "metadata": {
    "collapsed": true
   },
   "outputs": [],
   "source": [
    "b = mat(a)"
   ]
  },
  {
   "cell_type": "code",
   "execution_count": 39,
   "metadata": {},
   "outputs": [
    {
     "name": "stdout",
     "output_type": "stream",
     "text": [
      "[[ 0.11540114  0.57388744  0.64615162  0.04558949]\n",
      " [ 0.25413864  0.51970238  0.62965259  0.99353374]\n",
      " [ 0.40252924  0.33923054  0.94808533  0.38230899]\n",
      " [ 0.97683401  0.28889942  0.30229978  0.39109444]]\n"
     ]
    }
   ],
   "source": [
    "print(b)"
   ]
  },
  {
   "cell_type": "markdown",
   "metadata": {},
   "source": [
    "### .I操作符实现矩阵的求逆运算"
   ]
  },
  {
   "cell_type": "code",
   "execution_count": 41,
   "metadata": {
    "collapsed": true
   },
   "outputs": [],
   "source": [
    "c = b.I"
   ]
  },
  {
   "cell_type": "code",
   "execution_count": 42,
   "metadata": {},
   "outputs": [
    {
     "name": "stdout",
     "output_type": "stream",
     "text": [
      "[[-0.19496971 -0.46966516  0.08298058  1.13474518]\n",
      " [ 2.26093884  0.50014997 -2.01058765  0.4312892 ]\n",
      " [-0.36189221 -0.44108843  1.77769031 -0.57503315]\n",
      " [-0.90344149  1.14456446 -0.0961303  -0.15143272]]\n"
     ]
    }
   ],
   "source": [
    "print(c)"
   ]
  },
  {
   "cell_type": "code",
   "execution_count": 43,
   "metadata": {},
   "outputs": [
    {
     "data": {
      "text/plain": [
       "matrix([[  1.00000000e+00,   0.00000000e+00,   2.22044605e-16,\n",
       "           0.00000000e+00],\n",
       "        [  5.55111512e-17,   1.00000000e+00,   0.00000000e+00,\n",
       "          -9.71445147e-17],\n",
       "        [  1.11022302e-16,   0.00000000e+00,   1.00000000e+00,\n",
       "           8.32667268e-17],\n",
       "        [  0.00000000e+00,   1.11022302e-16,   0.00000000e+00,\n",
       "           1.00000000e+00]])"
      ]
     },
     "execution_count": 43,
     "metadata": {},
     "output_type": "execute_result"
    }
   ],
   "source": [
    "a*c"
   ]
  },
  {
   "cell_type": "markdown",
   "metadata": {},
   "source": [
    "### markdown 单元格还支持 LaTex 语法。例如：$$\\int_0^{+\\infty} x^2 dx$$"
   ]
  },
  {
   "cell_type": "code",
   "execution_count": null,
   "metadata": {
    "collapsed": true
   },
   "outputs": [],
   "source": []
  }
 ],
 "metadata": {
  "kernelspec": {
   "display_name": "Python 2",
   "language": "python",
   "name": "python2"
  },
  "language_info": {
   "codemirror_mode": {
    "name": "ipython",
    "version": 2
   },
   "file_extension": ".py",
   "mimetype": "text/x-python",
   "name": "python",
   "nbconvert_exporter": "python",
   "pygments_lexer": "ipython2",
   "version": "2.7.14"
  }
 },
 "nbformat": 4,
 "nbformat_minor": 2
}
